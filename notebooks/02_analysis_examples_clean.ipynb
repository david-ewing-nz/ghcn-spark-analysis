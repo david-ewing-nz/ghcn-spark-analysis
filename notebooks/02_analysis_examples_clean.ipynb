{
 "cells": [
  {
   "cell_type": "code",
   "execution_count": null,
   "id": "b12dfbd7",
   "metadata": {},
   "outputs": [],
   "source": [
    "%run ./00_notebook_with_setup.ipynb"
   ]
  },
  {
   "cell_type": "code",
   "execution_count": null,
   "id": "15fd015f",
   "metadata": {},
   "outputs": [],
   "source": [
    "# Actions\n",
    "\n",
    "print(data)\n",
    "print(\"\")\n",
    "print(data.count())\n",
    "print(\"\")\n",
    "print(data.head())\n",
    "print(\"\")\n",
    "data.show(5, False)"
   ]
  }
 ],
 "metadata": {},
 "nbformat": 4,
 "nbformat_minor": 5
}
